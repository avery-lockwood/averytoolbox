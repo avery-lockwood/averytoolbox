{
 "cells": [
  {
   "cell_type": "code",
   "execution_count": null,
   "metadata": {},
   "outputs": [
    {
     "name": "stdout",
     "output_type": "stream",
     "text": [
      "Requirement already satisfied: sagemath in c:\\users\\benlo\\miniconda3\\lib\\site-packages (1.3.0)\n",
      "Requirement already satisfied: cython>=0.26 in c:\\users\\benlo\\miniconda3\\lib\\site-packages (from sagemath) (3.0.12)\n",
      "Note: you may need to restart the kernel to use updated packages.\n"
     ]
    }
   ],
   "source": [
    "import numpy as np\n",
    "import math\n"
   ]
  },
  {
   "cell_type": "code",
   "execution_count": 4,
   "metadata": {},
   "outputs": [
    {
     "name": "stdout",
     "output_type": "stream",
     "text": [
      "1.5707963267948966\n",
      "90.0\n"
     ]
    }
   ],
   "source": [
    "#2.3 dot product, wack\n",
    "#Q: 135: For the following exercises, find the measure of the angle between the three-dimensional vectors a and b. Express the answer in radians rounded to two decimal places, if it is not possible to express it exactly.\n",
    "a = np.array([3,-1,2]) #np.array is a way to define vectors\n",
    "b = np.array([1,-1,-2])\n",
    "\n",
    "\n",
    "\n",
    "np.dot(a,b) #a function that returns the the dot product of a and b\n",
    "#The angle of between two vectors is arccos((a dot b)/(||a||*||b||)\n",
    "#we have a function to find the dot product, i wrote one to find magnitude:\n",
    "\n",
    "def magnitude(vector): \n",
    "    return math.sqrt(sum(pow(element, 2) for element in vector))\n",
    "\n",
    "# finally we can simply compute the angle and print it out:\n",
    "angle_ab = np.arccos(np.dot(a,b)/(magnitude(a)*magnitude(b)))\n",
    "\n",
    "print(angle_ab)\n",
    "# this is in radians so lets convert to degrees:\n",
    "print(angle_ab * 180/np.pi)\n"
   ]
  },
  {
   "cell_type": "code",
   "execution_count": 5,
   "metadata": {},
   "outputs": [
    {
     "name": "stdout",
     "output_type": "stream",
     "text": [
      "1.1333333333414943\n"
     ]
    }
   ],
   "source": [
    "#un-necesarily using gradient decent when algebra would work just fine to solve for a number to scale a vector by to make it perpendicular to another vector\n",
    "\n",
    "import random\n",
    "\n",
    "vec1 = np.array([3,6])\n",
    "vec2 = np.array([3,7])\n",
    "\n",
    "dot = np.dot(vec1,vec2)\n",
    "a = random.random() - 4\n",
    "dotNew = np.dot(vec1,vec2)\n",
    "increment = 1\n",
    "Dir = True\n",
    "while(dot > 0.000000001 or dot < -0.0000000001):\n",
    "    dot = np.dot(vec1,vec2)\n",
    "    if(Dir):\n",
    "        a = a - increment\n",
    "    else:\n",
    "        a = a + increment\n",
    "    vec2 = np.array([3,7])\n",
    "    vec2 = vec2 - a*vec1 \n",
    "    dotNew = np.dot(vec1,vec2)\n",
    "\n",
    "    if(abs(dot) < abs(dotNew) ):\n",
    "        Dir = not Dir\n",
    "        increment = increment/2\n",
    "\n",
    "print(a)"
   ]
  },
  {
   "cell_type": "code",
   "execution_count": 6,
   "metadata": {},
   "outputs": [
    {
     "name": "stdout",
     "output_type": "stream",
     "text": [
      "4.27617987059879\n"
     ]
    }
   ],
   "source": [
    "#lets wright a function to find the distance from a point to a plane:\n",
    "\n",
    "point = [1,5,-4] ## x,y, and z values\n",
    "plane = [3,-1,2,-6] # coefficients for x,y,z, and the constant\n",
    "\n",
    "def distance_plane_to_point(plane, point):\n",
    "    return np.abs(plane[0]*point[0] + plane[1]*point[1] + plane[2]*point[2] + plane[3]) / np.sqrt(plane[0]**2 + plane[1]**2+  plane[2]**2) # formula for distance from a point to a plane\n",
    " \n",
    "print(distance_plane_to_point(plane, point))"
   ]
  }
 ],
 "metadata": {
  "kernelspec": {
   "display_name": "base",
   "language": "python",
   "name": "python3"
  },
  "language_info": {
   "codemirror_mode": {
    "name": "ipython",
    "version": 3
   },
   "file_extension": ".py",
   "mimetype": "text/x-python",
   "name": "python",
   "nbconvert_exporter": "python",
   "pygments_lexer": "ipython3",
   "version": "3.12.2"
  }
 },
 "nbformat": 4,
 "nbformat_minor": 2
}
