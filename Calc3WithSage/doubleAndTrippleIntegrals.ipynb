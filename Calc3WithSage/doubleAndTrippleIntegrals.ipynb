{
 "cells": [
  {
   "cell_type": "markdown",
   "id": "ab16a6db",
   "metadata": {},
   "source": [
    "# this notebook must be run with a sagemath jupyter kernel\n",
    "## in a linux machine with sagemath installed run sage -n jupyter and connect to the kernel."
   ]
  },
  {
   "cell_type": "code",
   "execution_count": 44,
   "id": "fc5d56df",
   "metadata": {},
   "outputs": [],
   "source": [
    "#generated using copilot, modified for clairity, and tested to match answers from https://openstax.org/books/calculus-volume-3/pages/5-6-calculating-centers-of-mass-and-moments-of-inertia\n",
    "def centerOfMass(region, density, return_mass = False):\n",
    "    '''   \n",
    "    Calculate the center of mass for a 2D or 3D object defined by a region and a density function.\n",
    "    If the object has uniform density, specify a constant value for the density function (e.g 2.5 ).\n",
    "    \n",
    "    also works for calculating charge densit, total heat, and other physical properties that can be defined as an integral over a region.\n",
    "    \n",
    "    Parameters:\n",
    "    - region: A list of tuples specifying the bounds for each variable (e.g., [(x, 0, 1), (y, 0, 2)] for 2D).\n",
    "    - density: The density function of the object.\n",
    "    - return_mass: If True, the function will return the mass of the object along with the center of mass  \n",
    "    \n",
    "    Returns:\n",
    "    - A tuple representing the center of mass coordinates.\n",
    "\n",
    "    example usage: # add more cases and results from actually testing these cases\n",
    "    2 dimensional case:\n",
    "    >>> centerOfMass([(x, 0, 1), (y, 0, 2)], x^2+y^2 )\n",
    "    3 dimensional case:\n",
    "    >>> centerOfMass([(x, 0, 1), (y, 0, 2), (z, 0, 3)], x^2+y^2+z^2 )\n",
    "    '''\n",
    "    variables = [var[0] for var in region]\n",
    "\n",
    "    if len(variables) == 2:  # 2D case\n",
    "        x, y = variables\n",
    "        mass = integral(integral(density, region[0]), region[1])\n",
    "        x_cm = integral(integral(x * density, region[0]), region[1]) / mass\n",
    "        y_cm = integral(integral(y * density, region[0]), region[1]) / mass\n",
    "        return ((x_cm, y_cm), mass) if return_mass else (x_cm, y_cm)\n",
    "    \n",
    "    elif len(variables) == 3:  # 3D case\n",
    "        x, y, z = variables\n",
    "        mass = integral(integral(integral(density, region[0]), region[1]), region[2])\n",
    "        x_cm = integral(integral(integral(x * density, region[0]), region[1]), region[2]) / mass\n",
    "        y_cm = integral(integral(integral(y * density, region[0]), region[1]), region[2]) / mass\n",
    "        z_cm = integral(integral(integral(z * density, region[0]), region[1]), region[2]) / mass\n",
    "        return ((x_cm, y_cm, z_cm), mass) if return_mass else (x_cm, y_cm, z_cm)\n",
    "    else:\n",
    "        raise ValueError(\"The function only supports 2D or 3D objects.\")\n",
    "\n"
   ]
  },
  {
   "cell_type": "code",
   "execution_count": null,
   "id": "52c49801",
   "metadata": {},
   "outputs": [
    {
     "name": "stdout",
     "output_type": "stream",
     "text": [
      "Testing with rectangular regions:\n",
      "bounds:(x, 0, 6), (y, 0, 3)], density = sqrt(x*y) :\n",
      "((18/5, 9/5), 8*sqrt(6)*sqrt(3))\n",
      "33.9411254969543 == 33.9411254969543\n",
      "\n",
      "bounds: (x,0,2),(y,0,3),(z,0,3)], density = z  center of mass from homework ==(1, 3/2, 2), result == (1, 3/2, 2)\n",
      "\n",
      "Testing with non-rectangular regions:\n",
      "bounds: (x, 0, 1), (y, 0, sqrt(1-x^2)], density = 1 : ((1/2, -1/2*(x^2 - 1)/sqrt(-x^2 + 1)), sqrt(-x^2 + 1))\n"
     ]
    }
   ],
   "source": [
    "# testing centerOfMass() function with rectangular reigons\n",
    "\n",
    "print('Testing with rectangular regions:')\n",
    "var('x, y, z')   \n",
    "print(f'bounds:(x, 0, 6), (y, 0, 3)], density = sqrt(x*y) :\\n{centerOfMass([(x, 0, 6), (y, 0, 3)], sqrt(x*y),True)}')  \n",
    "\n",
    "print(n(24*sqrt(2)), '==',n(centerOfMass([(x, 0, 6), (y, 0, 3)], sqrt(x*y),True)[1])) # checking that answer from textbook is the same as answer from the function\n",
    "\n",
    "\n",
    "print('\\nbounds: (x,0,2),(y,0,3),(z,0,3)], density = z',' center of mass from homework ==(1, 3/2, 2), result ==',centerOfMass([(x,0,2),(y,0,3),(z,0,3)],z))\n",
    "\n",
    "# testing centerOfMass() function with non-rectangular regions\n",
    "\n",
    "print('\\nTesting with non-rectangular regions:')\n",
    "\n",
    "print('bounds: (x, 0, 1), (y, 0, sqrt(1-x^2)], density = 1 :', centerOfMass([(x, 0, 1), (y, 0, sqrt(1-x^2))], 1, True)) # validate with anwer from textbook\n",
    "\n"
   ]
  }
 ],
 "metadata": {
  "kernelspec": {
   "display_name": "SageMath 9.0",
   "language": "sage",
   "name": "sagemath"
  },
  "language_info": {
   "codemirror_mode": {
    "name": "ipython",
    "version": 3
   },
   "file_extension": ".py",
   "mimetype": "text/x-python",
   "name": "python",
   "nbconvert_exporter": "python",
   "pygments_lexer": "ipython3",
   "version": "3.8.10"
  }
 },
 "nbformat": 4,
 "nbformat_minor": 5
}
