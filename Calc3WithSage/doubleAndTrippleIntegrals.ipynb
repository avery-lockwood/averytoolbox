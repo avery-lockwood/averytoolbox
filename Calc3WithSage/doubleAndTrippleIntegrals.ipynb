{
 "cells": [
  {
   "cell_type": "markdown",
   "id": "ab16a6db",
   "metadata": {},
   "source": [
    "# this notebook must be run with a sagemath jupyter kernel\n",
    "## in a linux machine with sagemath installed run sage -n jupyter and connect to the kernel."
   ]
  },
  {
   "cell_type": "code",
   "execution_count": 44,
   "id": "fc5d56df",
   "metadata": {},
   "outputs": [],
   "source": [
    "#generated using copilot, modified for clairity, and tested to match answers from https://openstax.org/books/calculus-volume-3/pages/5-6-calculating-centers-of-mass-and-moments-of-inertia\n",
    "def centerOfMass(region, density, return_mass = False):\n",
    "    '''   \n",
    "    Calculate the center of mass for a 2D or 3D object defined by a region and a density function.\n",
    "    If the object has uniform density, specify a constant value for the density function (e.g 2.5 ).\n",
    "    \n",
    "    also works for calculating charge densit, total heat, and other physical properties that can be defined as an integral over a region.\n",
    "    \n",
    "    Parameters:\n",
    "    - region: A list of tuples specifying the bounds for each variable (e.g., [(x, 0, 1), (y, 0, 2)] for 2D).\n",
    "    - density: The density function of the object.\n",
    "    - return_mass: If True, the function will return the mass of the object along with the center of mass  \n",
    "    \n",
    "    Returns:\n",
    "    - A tuple representing the center of mass coordinates.\n",
    "\n",
    "    example usage: # add more cases and results from actually testing these cases\n",
    "    2 dimensional case:\n",
    "    >>> centerOfMass([(x, 0, 1), (y, 0, 2)], x^2+y^2 )\n",
    "    3 dimensional case:\n",
    "    >>> centerOfMass([(x, 0, 1), (y, 0, 2), (z, 0, 3)], x^2+y^2+z^2 )\n",
    "    '''\n",
    "    variables = [var[0] for var in region]\n",
    "\n",
    "    if len(variables) == 2:  # 2D case\n",
    "        x, y = variables\n",
    "        mass = integral(integral(density, region[0]), region[1])\n",
    "        x_cm = integral(integral(x * density, region[0]), region[1]) / mass\n",
    "        y_cm = integral(integral(y * density, region[0]), region[1]) / mass\n",
    "        return ((x_cm, y_cm), mass) if return_mass else (x_cm, y_cm)\n",
    "    \n",
    "    elif len(variables) == 3:  # 3D case\n",
    "        x, y, z = variables\n",
    "        mass = integral(integral(integral(density, region[0]), region[1]), region[2])\n",
    "        x_cm = integral(integral(integral(x * density, region[0]), region[1]), region[2]) / mass\n",
    "        y_cm = integral(integral(integral(y * density, region[0]), region[1]), region[2]) / mass\n",
    "        z_cm = integral(integral(integral(z * density, region[0]), region[1]), region[2]) / mass\n",
    "        return ((x_cm, y_cm, z_cm), mass) if return_mass else (x_cm, y_cm, z_cm)\n",
    "    else:\n",
    "        raise ValueError(\"The function only supports 2D or 3D objects.\")\n",
    "\n"
   ]
  },
  {
   "cell_type": "code",
   "execution_count": null,
   "id": "52c49801",
   "metadata": {},
   "outputs": [
    {
     "name": "stdout",
     "output_type": "stream",
     "text": [
      "Testing with rectangular regions:\n",
      "bounds:(x, 0, 6), (y, 0, 3)], density = sqrt(x*y) :\n",
      "((18/5, 9/5), 8*sqrt(6)*sqrt(3))\n",
      "33.9411254969543 == 33.9411254969543\n",
      "\n",
      "bounds: (x,0,2),(y,0,3),(z,0,3)], density = z  center of mass from homework ==(1, 3/2, 2), result == (1, 3/2, 2)\n",
      "\n",
      "Testing with non-rectangular regions:\n",
      "bounds: (x, 0, 1), (y, 0, sqrt(1-x^2)], density = 1 : ((1/2, -1/2*(x^2 - 1)/sqrt(-x^2 + 1)), sqrt(-x^2 + 1))\n"
     ]
    }
   ],
   "source": [
    "# testing centerOfMass() function with rectangular reigons\n",
    "\n",
    "print('Testing with rectangular regions:')\n",
    "var('x, y, z')   \n",
    "print(f'bounds:(x, 0, 6), (y, 0, 3)], density = sqrt(x*y) :\\n{centerOfMass([(x, 0, 6), (y, 0, 3)], sqrt(x*y),True)}')  \n",
    "\n",
    "print(n(24*sqrt(2)), '==',n(centerOfMass([(x, 0, 6), (y, 0, 3)], sqrt(x*y),True)[1])) # checking that answer from textbook is the same as answer from the function\n",
    "\n",
    "\n",
    "print('\\nbounds: (x,0,2),(y,0,3),(z,0,3)], density = z',' center of mass from homework ==(1, 3/2, 2), result ==',centerOfMass([(x,0,2),(y,0,3),(z,0,3)],z))\n",
    "\n",
    "# testing centerOfMass() function with non-rectangular regions\n",
    "\n",
    "print('\\nTesting with non-rectangular regions:')\n",
    "\n",
    "print('bounds: (x, 0, 1), (y, 0, sqrt(1-x^2)], density = 1 :', centerOfMass([(x, 0, 1), (y, 0, sqrt(1-x^2))], 1, True)) # validate with anwer from textbook\n",
    "\n"
   ]
  },
  {
   "cell_type": "code",
   "execution_count": 48,
   "id": "1eb0a7c3",
   "metadata": {},
   "outputs": [],
   "source": [
    "def simulateChargeDistribution(region, resistance, current_input, boundary_conditions):\n",
    "    \"\"\"\n",
    "    Simulate the charge distribution, total charge, and center of charge distribution\n",
    "    on a 2D mesh of a material with a given resistance.\n",
    "\n",
    "    Parameters:\n",
    "    - region: A list of tuples specifying the bounds for the 2D region (e.g., [(x, 0, 1), (y, 0, 2)]).\n",
    "    - resistance: A function or constant representing the resistance of the material.\n",
    "    - current_input: A function specifying the current input at specific points on the mesh.\n",
    "    - boundary_conditions: A dictionary specifying the boundary conditions for the simulation.\n",
    "\n",
    "    Returns:\n",
    "    - A dictionary containing:\n",
    "        - 'charge_distribution': The symbolic solution for the charge distribution.\n",
    "        - 'total_charge': The total charge on the plate.\n",
    "        - 'center_of_charge': The center of charge distribution.\n",
    "    \"\"\"\n",
    "    # Extract variables and bounds\n",
    "    x, y = [var[0] for var in region]\n",
    "    x_bounds, y_bounds = region\n",
    "\n",
    "    # Define the potential function V(x, y) (governed by Laplace's equation)\n",
    "    V = function('V')(x, y)\n",
    "\n",
    "    # Define Laplace's equation: ∇²V = -current_input / resistance\n",
    "    laplace_eq = diff(V, x, 2) + diff(V, y, 2) == -current_input / resistance\n",
    "\n",
    "    # Solve the PDE with the given boundary conditions\n",
    "    charge_distribution = desolve_laplace(laplace_eq, V, dvar=[x, y], ics=boundary_conditions)\n",
    "\n",
    "    # Calculate the total charge (integral of charge density over the region)\n",
    "    charge_density = -resistance * (diff(charge_distribution, x, 2) + diff(charge_distribution, y, 2))\n",
    "    total_charge = integral(integral(charge_density, x_bounds), y_bounds)\n",
    "\n",
    "    # Calculate the center of charge distribution using the centerOfMass function\n",
    "    center_of_charge = centerOfMass(region, charge_density)\n",
    "\n",
    "    return {\n",
    "        'charge_distribution': charge_distribution,\n",
    "        'total_charge': total_charge,\n",
    "        'center_of_charge': center_of_charge\n",
    "    }"
   ]
  },
  {
   "cell_type": "code",
   "execution_count": 51,
   "id": "cc7b403a",
   "metadata": {},
   "outputs": [
    {
     "ename": "TypeError",
     "evalue": "desolve_laplace() got multiple values for argument 'dvar'",
     "output_type": "error",
     "traceback": [
      "\u001b[0;31m--------------------------------------\u001b[0m",
      "\u001b[0;31mTypeError\u001b[0mTraceback (most recent call last)",
      "\u001b[0;32m<ipython-input-51-3b0af6a9aba4>\u001b[0m in \u001b[0;36m<module>\u001b[0;34m\u001b[0m\n\u001b[1;32m      7\u001b[0m \u001b[0;34m\u001b[0m\u001b[0m\n\u001b[1;32m      8\u001b[0m \u001b[0;31m# Simulate the charge distribution\u001b[0m\u001b[0;34m\u001b[0m\u001b[0;34m\u001b[0m\u001b[0;34m\u001b[0m\u001b[0m\n\u001b[0;32m----> 9\u001b[0;31m \u001b[0mresult\u001b[0m \u001b[0;34m=\u001b[0m \u001b[0msimulateChargeDistribution\u001b[0m\u001b[0;34m(\u001b[0m\u001b[0mregion\u001b[0m\u001b[0;34m,\u001b[0m \u001b[0mresistance\u001b[0m\u001b[0;34m,\u001b[0m \u001b[0mcurrent_input\u001b[0m\u001b[0;34m,\u001b[0m \u001b[0mboundary_conditions\u001b[0m\u001b[0;34m)\u001b[0m\u001b[0;34m\u001b[0m\u001b[0;34m\u001b[0m\u001b[0m\n\u001b[0m\u001b[1;32m     10\u001b[0m \u001b[0;34m\u001b[0m\u001b[0m\n\u001b[1;32m     11\u001b[0m \u001b[0;31m# Output results\u001b[0m\u001b[0;34m\u001b[0m\u001b[0;34m\u001b[0m\u001b[0;34m\u001b[0m\u001b[0m\n",
      "\u001b[0;32m<ipython-input-48-9e8a78fe9622>\u001b[0m in \u001b[0;36msimulateChargeDistribution\u001b[0;34m(region, resistance, current_input, boundary_conditions)\u001b[0m\n\u001b[1;32m     27\u001b[0m \u001b[0;34m\u001b[0m\u001b[0m\n\u001b[1;32m     28\u001b[0m     \u001b[0;31m# Solve the PDE with the given boundary conditions\u001b[0m\u001b[0;34m\u001b[0m\u001b[0;34m\u001b[0m\u001b[0;34m\u001b[0m\u001b[0m\n\u001b[0;32m---> 29\u001b[0;31m     \u001b[0mcharge_distribution\u001b[0m \u001b[0;34m=\u001b[0m \u001b[0mdesolve_laplace\u001b[0m\u001b[0;34m(\u001b[0m\u001b[0mlaplace_eq\u001b[0m\u001b[0;34m,\u001b[0m \u001b[0mV\u001b[0m\u001b[0;34m,\u001b[0m \u001b[0mdvar\u001b[0m\u001b[0;34m=\u001b[0m\u001b[0;34m[\u001b[0m\u001b[0mx\u001b[0m\u001b[0;34m,\u001b[0m \u001b[0my\u001b[0m\u001b[0;34m]\u001b[0m\u001b[0;34m,\u001b[0m \u001b[0mics\u001b[0m\u001b[0;34m=\u001b[0m\u001b[0mboundary_conditions\u001b[0m\u001b[0;34m)\u001b[0m\u001b[0;34m\u001b[0m\u001b[0;34m\u001b[0m\u001b[0m\n\u001b[0m\u001b[1;32m     30\u001b[0m \u001b[0;34m\u001b[0m\u001b[0m\n\u001b[1;32m     31\u001b[0m     \u001b[0;31m# Calculate the total charge (integral of charge density over the region)\u001b[0m\u001b[0;34m\u001b[0m\u001b[0;34m\u001b[0m\u001b[0;34m\u001b[0m\u001b[0m\n",
      "\u001b[0;31mTypeError\u001b[0m: desolve_laplace() got multiple values for argument 'dvar'"
     ]
    }
   ],
   "source": [
    "# Define the region, resistance, current input, and boundary conditions\n",
    "V = function('V')(x, y)\n",
    "region = [(x, 0, 1), (y, 0, 2)]\n",
    "resistance = 1  # Uniform resistance\n",
    "current_input = 10  # Constant current input\n",
    "boundary_conditions = {V(0, y): 0, V(1, y): 0, V(x, 0): 0, V(x, 2): 10}  # Example BCs\n",
    "\n",
    "# Simulate the charge distribution\n",
    "result = simulateChargeDistribution(region, resistance, current_input, boundary_conditions)\n",
    "\n",
    "# Output results\n",
    "print(\"Charge Distribution:\", result['charge_distribution'])\n",
    "print(\"Total Charge:\", result['total_charge'])\n",
    "print(\"Center of Charge:\", result['center_of_charge'])"
   ]
  }
 ],
 "metadata": {
  "kernelspec": {
   "display_name": "SageMath 9.0",
   "language": "sage",
   "name": "sagemath"
  },
  "language_info": {
   "codemirror_mode": {
    "name": "ipython",
    "version": 3
   },
   "file_extension": ".py",
   "mimetype": "text/x-python",
   "name": "python",
   "nbconvert_exporter": "python",
   "pygments_lexer": "ipython3",
   "version": "3.8.10"
  }
 },
 "nbformat": 4,
 "nbformat_minor": 5
}
