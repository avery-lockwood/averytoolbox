{
 "cells": [
  {
   "cell_type": "code",
   "execution_count": null,
   "metadata": {},
   "outputs": [
    {
     "data": {
      "text/html": [
       "<html><script type=\"math/tex; mode=display\">\\newcommand{\\Bold}[1]{\\mathbf{#1}}\\frac{\\partial^{2}}{(\\partial y)^{2}}f\\left(y, t, x\\right) + \\frac{\\partial^{2}}{(\\partial x)^{2}}f\\left(y, t, x\\right)</script></html>"
      ],
      "text/plain": [
       "diff(f(y, t, x), y, y) + diff(f(y, t, x), x, x)"
      ]
     },
     "metadata": {},
     "output_type": "display_data"
    }
   ],
   "source": [
    "\n",
    "var('x','y','t')\n",
    "f = function('f')(x,y,t)\n",
    "pde = diff(f(x,y,t),x,2) + diff(f(x,y,t), y, 2)\n"
   ]
  },
  {
   "cell_type": "code",
   "execution_count": null,
   "metadata": {},
   "outputs": [
    {
     "data": {
      "image/png": "[encoded data removed]",
      "text/plain": [
       "<Figure size 432x288 with 2 Axes>"
      ]
     },
     "metadata": {
      "needs_background": "light"
     },
     "output_type": "display_data"
    }
   ],
   "source": [
    "#some code chatgpt spat out for a numerical method to solve the equation for heat transfer in xy plane\n",
    "import numpy as np\n",
    "import matplotlib.pyplot as plt\n",
    "\n",
    "# Define grid parameters\n",
    "L = 1.0       # Length of the spatial domain (x and y)\n",
    "Nx = 20       # Number of spatial points in x\n",
    "Ny = 20       # Number of spatial points in y\n",
    "dx = L / (Nx - 1)  # Spatial step in x\n",
    "dy = L / (Ny - 1)  # Spatial step in y\n",
    "\n",
    "T = 0.1       # Total time to simulate\n",
    "Nt = 500      # Number of time steps\n",
    "dt = T / Nt   # Time step size\n",
    "alpha = 0.01  # Thermal diffusivity\n",
    "\n",
    "# Stability condition: ensure dt <= dx^2 / (4*alpha)\n",
    "assert dt <= dx**2 / (4*alpha), \"Time step too large! Reduce dt for stability.\"\n",
    "\n",
    "# Initialize solution array\n",
    "u = np.zeros((Nx, Ny))  # Initial temperature distribution\n",
    "\n",
    "# Set an initial condition: a hot spot in the center\n",
    "u[Nx//2, Ny//2] = 100.0\n",
    "\n",
    "# Define function to update temperature\n",
    "def update_temperature(u, alpha, dx, dy, dt):\n",
    "    u_new = u.copy()\n",
    "    for i in range(1, Nx-1):\n",
    "        for j in range(1, Ny-1):\n",
    "            u_new[i, j] = u[i, j] + alpha * dt * (\n",
    "                (u[i+1, j] - 2*u[i, j] + u[i-1, j]) / dx**2 +\n",
    "                (u[i, j+1] - 2*u[i, j] + u[i, j-1]) / dy**2\n",
    "            )\n",
    "    return u_new\n",
    "\n",
    "# Run the simulation\n",
    "for _ in range(Nt):\n",
    "    u = update_temperature(u, alpha, dx, dy, dt)\n",
    "\n",
    "# Plot the final temperature distribution\n",
    "plt.imshow(u, cmap='hot', origin='lower', extent=[0, L, 0, L])\n",
    "plt.colorbar(label=\"Temperature\")\n",
    "#plt.title(\"Heat Distribution After {:.2f} Seconds\".format(T))\n",
    "plt.xlabel(\"x\")\n",
    "plt.ylabel(\"y\")\n",
    "plt.show()\n"
   ]
  },
  {
   "cell_type": "code",
   "execution_count": 21,
   "metadata": {},
   "outputs": [
    {
     "data": {
      "text/plain": [
       "-16*(x - 1)^2*(4*y - 3)^2*e^(-2*x^2 - 8*y^2 + 4*x + 12*y) + 8*(2*(x - 1)^2*e^(-x^2 - 4*y^2 + 2*x + 6*y) - e^(-x^2 - 4*y^2 + 2*x + 6*y))*((4*y - 3)^2*e^(-x^2 - 4*y^2 + 2*x + 6*y) - 2*e^(-x^2 - 4*y^2 + 2*x + 6*y))"
      ]
     },
     "execution_count": 21,
     "metadata": {},
     "output_type": "execute_result"
    }
   ],
   "source": [
    "#for f(x,y) = 6*x^2*y^2 + 2*x^2 + 6*y^2 find the descriminant of f\n",
    "f(x,y) = 6*x^2*y^2 + 2*x^2 + 6*y^2\n",
    "def descriminant(f):\n",
    "    return diff(f(x,y),x,2)*diff(f(x,y),y,2) - diff(f(x,y),x,y)^2\n",
    "f(x,y) = e^(-1*x^2 - 4*y^2 + 2*x + 6*y)\n",
    "descriminant(f)"
   ]
  },
  {
   "cell_type": "code",
   "execution_count": 53,
   "metadata": {},
   "outputs": [
    {
     "name": "stdout",
     "output_type": "stream",
     "text": [
      "[x == r1]\n",
      "[\n",
      "\n",
      "]\n",
      "[\n",
      "y == (-35/23)\n",
      "]\n",
      "[2/23, -6]\n",
      "[519726000, 0]\n"
     ]
    }
   ],
   "source": [
    "# finding critical points\n",
    "f(x,y) = (x^2 - 5*x)(y^2 - 2*y)\n",
    "\n",
    "print(solve(diff(f(x,y),x) == 0,x))\n",
    "print(solve(diff(f(x,y),y) == 0,x))\n",
    "print(solve(-4*y - 6 == -1/6*y - 1/6,y))\n",
    "\n",
    "g(y) = -4*y - 6\n",
    "print([g(i) for i in [-35/23,0]])\n",
    "print([f(-2250, -150), f(0,0),])"
   ]
  },
  {
   "cell_type": "code",
   "execution_count": 4,
   "metadata": {},
   "outputs": [],
   "source": [
    "def analyze_critical_points(f, vars):\n",
    "    \"\"\"\n",
    "    Finds and classifies critical points of f(x), f(x,y), or f(x,y,z).\n",
    "    \n",
    "    Parameters:\n",
    "        f    : A symbolic function in SageMath.\n",
    "        vars : A list of variables (e.g., [x], [x,y], or [x,y,z]).\n",
    "    \n",
    "    Returns:\n",
    "        A dictionary of critical points with their classifications.\n",
    "    \"\"\"\n",
    "    #from sympy import Matrix\n",
    "\n",
    "    num_vars = len(vars)\n",
    "    \n",
    "    # Compute first-order partial derivatives (gradient)\n",
    "    grad = [diff(f, var) for var in vars]\n",
    "    \n",
    "    # Solve for critical points\n",
    "    crit_solutions = solve(grad, vars, solution_dict=True)\n",
    "    \n",
    "    if not crit_solutions:\n",
    "        print(\"No critical points found.\")\n",
    "        return {}\n",
    "\n",
    "    critical_points = []\n",
    "    classifications = {}\n",
    "\n",
    "    for sol in crit_solutions:\n",
    "        try:\n",
    "            point = tuple(sol[var] for var in vars)  # Ensure we get a full (x,y) or (x,y,z) point\n",
    "        except KeyError:\n",
    "            print(f\"Skipping incomplete solution: {sol}\")\n",
    "            continue\n",
    "\n",
    "        critical_points.append(point)\n",
    "\n",
    "        if num_vars == 2:\n",
    "            # Compute second-order partial derivatives\n",
    "            f_xx = diff(grad[0], vars[0])\n",
    "            f_yy = diff(grad[1], vars[1])\n",
    "            f_xy = diff(grad[0], vars[1])\n",
    "\n",
    "            # Compute Hessian determinant (Discriminant)\n",
    "            D = f_xx * f_yy - f_xy**2\n",
    "\n",
    "            # Evaluate at the critical point\n",
    "            D_val = D.subs(sol)\n",
    "            f_xx_val = f_xx.subs(sol)\n",
    "\n",
    "            if D_val > 0:\n",
    "                if f_xx_val > 0:\n",
    "                    classifications[point] = \"Local Minimum\"\n",
    "                elif f_xx_val < 0:\n",
    "                    classifications[point] = \"Local Maximum\"\n",
    "            elif D_val < 0:\n",
    "                classifications[point] = \"Saddle Point\"\n",
    "            else:\n",
    "                classifications[point] = \"Inconclusive (Hessian determinant = 0)\"\n",
    "\n",
    "    return classifications\n"
   ]
  },
  {
   "cell_type": "code",
   "execution_count": null,
   "metadata": {},
   "outputs": [
    {
     "ename": "SyntaxError",
     "evalue": "invalid syntax (<ipython-input-6-cfc8b6436e96>, line 8)",
     "output_type": "error",
     "traceback": [
      "\u001b[0;36m  File \u001b[0;32m\"<ipython-input-6-cfc8b6436e96>\"\u001b[0;36m, line \u001b[0;32m8\u001b[0m\n\u001b[0;31m    //analyze_critical_points(h,[x,y])\u001b[0m\n\u001b[0m    ^\u001b[0m\n\u001b[0;31mSyntaxError\u001b[0m\u001b[0;31m:\u001b[0m invalid syntax\n"
     ]
    }
   ],
   "source": [
    "f(x,y) = x^2 + y^2\n",
    "print(analyze_critical_points(f,[x, y]))\n",
    "#f(-1/6*sqrt(6), -1/6*sqrt(6))\n",
    "g(x,y) = 3*x +7*y - 7\n",
    "solve(f(x,y) == g(x,y),x)\n",
    "h(x) = 1/2*sqrt(-4*y^2 + 28*y - 19) + 3/2\n",
    "\n",
    "#analyze_critical_points(h,[x,y])"
   ]
  }
 ],
 "metadata": {
  "kernelspec": {
   "display_name": "SageMath 9.0",
   "language": "sage",
   "name": "sagemath"
  },
  "language_info": {
   "codemirror_mode": {
    "name": "ipython",
    "version": 3
   },
   "file_extension": ".py",
   "mimetype": "text/x-python",
   "name": "python",
   "nbconvert_exporter": "python",
   "pygments_lexer": "ipython3",
   "version": "3.8.10"
  }
 },
 "nbformat": 4,
 "nbformat_minor": 2
}
