{
 "cells": [
  {
   "cell_type": "code",
   "execution_count": 1,
   "metadata": {},
   "outputs": [],
   "source": [
    "#this notebook must be runn on a sagemath server, i run mine with wsl, sacecell should also work\n",
    "import numpy as np"
   ]
  },
  {
   "cell_type": "code",
   "execution_count": null,
   "metadata": {},
   "outputs": [
    {
     "name": "stdout",
     "output_type": "stream",
     "text": [
      "[2*cos(t)/sqrt(25*t^2 + 4*cos(t)^2 + 4*sin(t)^2)\n",
      " 5/sqrt(25*t^2 + 4*cos(t)^2 + 4*sin(t)^2)\n",
      " -2*sin(t)/sqrt(25*t^2 + 4*cos(t)^2 + 4*sin(t)^2)]\n"
     ]
    }
   ],
   "source": [
    "var('t')\n",
    "testfunction = np.array([2*sin(t), 5*t, 2*cos(t)])\n",
    "\n",
    "def magnitude(vector): \n",
    "    '''returns magnitude of a vector, vector can be input as an iterable such as a list or numpy array'''\n",
    "    return sqrt(sum(pow(element, 2) for element in vector))\n",
    "\n",
    "def unit_tangent_vector(vector):\n",
    "    '''returns unit tangent vector as a np array, takes an iterable such as a list or numpy array'''\n",
    "    return np.array([diff(i)/magnitude(vector) for i in vector]) #I use np arrays in these functions so that other np features like dot product can be used on the output\n",
    "\n",
    "print(unit_tangent_vector(testfunction))"
   ]
  },
  {
   "cell_type": "code",
   "execution_count": null,
   "metadata": {},
   "outputs": [
    {
     "name": "stdout",
     "output_type": "stream",
     "text": [
      "Unit normal vector for f(x, y) at (1, 1): (2/3, 2/3, -1/3)\n",
      "Unit normal vector for f(x, y, z) at (1, 1, 1): (1/3*sqrt(3), 1/3*sqrt(3), 1/3*sqrt(3))\n"
     ]
    }
   ],
   "source": [
    "def unit_normal_vector(f, point):\n",
    "    '''returns unit normal vector of sagemath function f, can be f(x,y) or f(x,y,x) number of variables in function must match number of \n",
    "     constants in point '''\n",
    "    # Determine the number of variables in f\n",
    "    variables = f.variables()\n",
    "    n = len(variables)\n",
    "    \n",
    "    if n == 2:\n",
    "        # Case for f(x, y): surface is z = f(x, y)\n",
    "        x, y = variables\n",
    "        fx = f.diff(x)\n",
    "        fy = f.diff(y)\n",
    "        \n",
    "        # Evaluate partial derivatives at the point\n",
    "        x0, y0 = point\n",
    "        fx0 = fx.subs(x=x0, y=y0)\n",
    "        fy0 = fy.subs(x=x0, y=y0)\n",
    "        \n",
    "        # Gradient vector is [fx, fy, -1]\n",
    "        gradient_vector = vector([fx0, fy0, -1])\n",
    "    \n",
    "    elif n == 3:\n",
    "        # Case for f(x, y, z): surface is f(x, y, z) = 0\n",
    "        x, y, z = variables\n",
    "        fx = f.diff(x)\n",
    "        fy = f.diff(y)\n",
    "        fz = f.diff(z)\n",
    "        \n",
    "        # Evaluate partial derivatives at the point\n",
    "        x0, y0, z0 = point\n",
    "        fx0 = fx.subs(x=x0, y=y0, z=z0)\n",
    "        fy0 = fy.subs(x=x0, y=y0, z=z0)\n",
    "        fz0 = fz.subs(x=x0, y=y0, z=z0)\n",
    "        \n",
    "        # Gradient vector is [fx, fy, fz]\n",
    "        gradient_vector = vector([fx0, fy0, fz0])\n",
    "    \n",
    "    else:\n",
    "        raise ValueError(\"The function must have 2 or 3 variables.\")\n",
    "    \n",
    "    # Normalize the gradient vector to get the unit normal vector\n",
    "    magnitude = gradient_vector.norm()\n",
    "    unit_normal = gradient_vector / magnitude\n",
    "    \n",
    "    return np.array(unit_normal)\n",
    "\n",
    "# Example usage:\n",
    "\n",
    "# Case 1: f(x, y) = x^2 + y^2\n",
    "x, y = var('x y')\n",
    "f_xy = x^2 + y^2\n",
    "point_xy = (1, 1)\n",
    "unit_normal_xy = unit_normal_vector(f_xy, point_xy)\n",
    "print(\"Unit normal vector for f(x, y) at (1, 1):\", unit_normal_xy)\n",
    "\n",
    "# Case 2: f(x, y, z) = x^2 + y^2 + z^2 - 1\n",
    "x, y, z = var('x y z')\n",
    "f_xyz = x^2 + y^2 + z^2 - 1\n",
    "point_xyz = (1, 1, 1)\n",
    "unit_normal_xyz = unit_normal_vector(f_xyz, point_xyz)\n",
    "print(\"Unit normal vector for f(x, y, z) at (1, 1, 1):\", unit_normal_xyz)"
   ]
  },
  {
   "cell_type": "code",
   "execution_count": 5,
   "metadata": {},
   "outputs": [
    {
     "data": {
      "text/plain": [
       "(4/21*sqrt(21), 2/21*sqrt(21), -1/21*sqrt(21))"
      ]
     },
     "execution_count": 5,
     "metadata": {},
     "output_type": "execute_result"
    }
   ],
   "source": [
    "f(x,y,z) = ln((-4*x)/(2*y - z))\n",
    "point = [4,5,26]\n",
    "unit_normal_vector(f(x,y,z),point)\n"
   ]
  },
  {
   "cell_type": "code",
   "execution_count": null,
   "metadata": {},
   "outputs": [
    {
     "name": "stdout",
     "output_type": "stream",
     "text": [
      "Normal line equations for f(x, y) at (2, -2): (229376*t + 2, -262144*t - 2, -t + 65536)\n"
     ]
    },
    {
     "data": {
      "text/plain": [
       "<class 'tuple'>"
      ]
     },
     "execution_count": 12,
     "metadata": {},
     "output_type": "execute_result"
    }
   ],
   "source": [
    "def normal_line_equations(f, point):\n",
    "    '''returns tuple of normal line equations for sage symbolic expression f at list point, works for f(x, y) and point [_, _] or f(x, y, z) and point [_, _, _]'''\n",
    "    # Determine the number of variables in f\n",
    "    variables = f.variables()\n",
    "    n = len(variables)\n",
    "    \n",
    "    if n == 2:\n",
    "        # Case for f(x, y): surface is z = f(x, y)\n",
    "        x, y = variables\n",
    "        fx = f.diff(x)\n",
    "        fy = f.diff(y)\n",
    "        \n",
    "        # Evaluate partial derivatives at the point\n",
    "        x0, y0 = point\n",
    "        z0 = f.subs(x=x0, y=y0)\n",
    "        fx0 = fx.subs(x=x0, y=y0)\n",
    "        fy0 = fy.subs(x=x0, y=y0)\n",
    "        \n",
    "        # Direction vector is [fx, fy, -1]\n",
    "        direction_vector = vector([fx0, fy0, -1])\n",
    "    \n",
    "    elif n == 3:\n",
    "        # Case for f(x, y, z): surface is f(x, y, z) = 0\n",
    "        x, y, z = variables\n",
    "        fx = f.diff(x)\n",
    "        fy = f.diff(y)\n",
    "        fz = f.diff(z)\n",
    "        \n",
    "        # Evaluate partial derivatives at the point\n",
    "        x0, y0, z0 = point\n",
    "        fx0 = fx.subs(x=x0, y=y0, z=z0)\n",
    "        fy0 = fy.subs(x=x0, y=y0, z=z0)\n",
    "        fz0 = fz.subs(x=x0, y=y0, z=z0)\n",
    "        \n",
    "        # Direction vector is [fx, fy, fz]\n",
    "        direction_vector = vector([fx0, fy0, fz0])\n",
    "    \n",
    "    else:\n",
    "        raise ValueError(\"The function must have 2 or 3 variables.\")\n",
    "    \n",
    "    # Parametric equations of the normal line\n",
    "    t = var('t')\n",
    "    normal_line = (\n",
    "        x0 + direction_vector[0] * t,\n",
    "        y0 + direction_vector[1] * t,\n",
    "        z0 + direction_vector[2] * t\n",
    "    )\n",
    "    \n",
    "    return normal_line\n",
    "\n",
    "# Example usage:\n",
    "\n",
    "# Case: f(x, y) = 2x^7 y^8\n",
    "x, y = var('x y')\n",
    "f_xy = 2 * x^7 * y^8\n",
    "point_xy = (2, -2)\n",
    "normal_line_xy = normal_line_equations(f_xy, point_xy)\n",
    "print(\"Normal line equations for f(x, y) at (2, -2):\", normal_line_xy)\n",
    "type(normal_line_xy)"
   ]
  },
  {
   "cell_type": "code",
   "execution_count": 12,
   "metadata": {},
   "outputs": [
    {
     "data": {
      "text/plain": [
       "(229376*t + 2, -262144*t - 2, -t + 65536)"
      ]
     },
     "execution_count": 12,
     "metadata": {},
     "output_type": "execute_result"
    }
   ],
   "source": [
    "normal_line_equations(2*x^7*y^8-z,[2,-2,65536])\n"
   ]
  },
  {
   "cell_type": "code",
   "execution_count": null,
   "metadata": {},
   "outputs": [
    {
     "data": {
      "text/plain": [
       "(16, -4, -1)"
      ]
     },
     "execution_count": 20,
     "metadata": {},
     "output_type": "execute_result"
    }
   ],
   "source": [
    "#solving for a normal vector with a certain z value (-1 in this case)\n",
    "foo = unit_normal_vector(2*e^(x^2-2*y),[4,8])\n",
    "var('a')\n",
    "a=-1/foo[2]\n",
    "a\n",
    "foo * a"
   ]
  },
  {
   "cell_type": "code",
   "execution_count": null,
   "metadata": {},
   "outputs": [
    {
     "name": "stdout",
     "output_type": "stream",
     "text": [
      "Tangent plane for f(x, y) at (1, 1): 2*x + 2*y - 2\n",
      "Tangent plane for f(x, y, z) at (1, 1, 1): 2*x + 2*y + 2*z - 6 == 0\n",
      "<class 'sage.symbolic.expression.Expression'>\n"
     ]
    }
   ],
   "source": [
    "def tangent_plane(f, point):\n",
    "    returns \n",
    "    # Determine the number of variables in f\n",
    "    variables = f.variables()\n",
    "    n = len(variables)\n",
    "    \n",
    "    if n == 2:\n",
    "        # Case for f(x, y): surface is z = f(x, y)\n",
    "        x, y = variables\n",
    "        fx = f.diff(x)\n",
    "        fy = f.diff(y)\n",
    "        \n",
    "        # Evaluate partial derivatives at the point\n",
    "        x0, y0 = point\n",
    "        z0 = f.subs(x=x0, y=y0)\n",
    "        fx0 = fx.subs(x=x0, y=y0)\n",
    "        fy0 = fy.subs(x=x0, y=y0)\n",
    "        \n",
    "        # Tangent plane equation: z = z0 + fx0*(x - x0) + fy0*(y - y0)\n",
    "        tangent_plane_eq = z0 + fx0 * (x - x0) + fy0 * (y - y0)\n",
    "    \n",
    "    elif n == 3:\n",
    "        # Case for f(x, y, z): surface is f(x, y, z) = 0\n",
    "        x, y, z = variables\n",
    "        fx = f.diff(x)\n",
    "        fy = f.diff(y)\n",
    "        fz = f.diff(z)\n",
    "        \n",
    "        # Evaluate partial derivatives at the point\n",
    "        x0, y0, z0 = point\n",
    "        fx0 = fx.subs(x=x0, y=y0, z=z0)\n",
    "        fy0 = fy.subs(x=x0, y=y0, z=z0)\n",
    "        fz0 = fz.subs(x=x0, y=y0, z=z0)\n",
    "        \n",
    "        # Tangent plane equation: fx0*(x - x0) + fy0*(y - y0) + fz0*(z - z0) = 0\n",
    "        tangent_plane_eq = fx0 * (x - x0) + fy0 * (y - y0) + fz0 * (z - z0) == 0\n",
    "    \n",
    "    else:\n",
    "        raise ValueError(\"The function must have 2 or 3 variables.\")\n",
    "    \n",
    "    return tangent_plane_eq\n",
    "\n",
    "# Example usage:\n",
    "\n",
    "# Case 1: f(x, y) = x^2 + y^2\n",
    "x, y = var('x y')\n",
    "f_xy = x^2 + y^2\n",
    "point_xy = (1, 1)\n",
    "tangent_plane_xy = tangent_plane(f_xy, point_xy)\n",
    "print(\"Tangent plane for f(x, y) at (1, 1):\", tangent_plane_xy)\n",
    "\n",
    "# Case 2: f(x, y, z) = x^2 + y^2 + z^2 - 1\n",
    "x, y, z = var('x y z')\n",
    "f_xyz = x^2 + y^2 + z^2 - 1\n",
    "point_xyz = (1, 1, 1)\n",
    "tangent_plane_xyz = tangent_plane(f_xyz, point_xyz)\n",
    "print(\"Tangent plane for f(x, y, z) at (1, 1, 1):\", tangent_plane_xyz)\n"
   ]
  },
  {
   "cell_type": "code",
   "execution_count": null,
   "metadata": {},
   "outputs": [
    {
     "data": {
      "text/plain": [
       "-10*x + 26*y - z - 80 == 0"
      ]
     },
     "execution_count": 22,
     "metadata": {},
     "output_type": "execute_result"
    }
   ],
   "source": [
    "tangent_plane(5*x^2 + 3*y^2 - 4*y - z,[-1,5,60])"
   ]
  },
  {
   "cell_type": "code",
   "execution_count": 7,
   "metadata": {},
   "outputs": [
    {
     "data": {
      "text/plain": [
       "0.466666666666667"
      ]
     },
     "execution_count": 7,
     "metadata": {},
     "output_type": "execute_result"
    }
   ],
   "source": [
    "tangent_plane(4*e^(x^2 - 2*y) - z, [4,8,4])\n",
    "tangent_plane(6*y*cos(3*x - 4*y) - z, [4,3,18])\n",
    "tangent_plane(x*y^4*cos(z) - z - 3, [3,1,0])\n",
    "tangent_plane((x^2 + 5*y^2 - 135)/-3, [-2,-5])(-1.9,-5.1)\n"
   ]
  },
  {
   "cell_type": "code",
   "execution_count": 8,
   "metadata": {},
   "outputs": [
    {
     "name": "stdout",
     "output_type": "stream",
     "text": [
      "Linear approximation for f(x) at x = 1: 2*x - 1\n",
      "Linear approximation for f(x, y) at (1, 1): 2*x + 2*y - 2\n",
      "Linear approximation for f(x, y, z) at (1, 1, 1): 2*x + 2*y + 2*z - 3\n"
     ]
    }
   ],
   "source": [
    "def linear_approximation(f, point):\n",
    "    # Determine the number of variables in f\n",
    "    variables = f.variables()\n",
    "    n = len(variables)\n",
    "    \n",
    "    if n == 1:\n",
    "        # Case for f(x): single-variable function\n",
    "        x = variables[0]\n",
    "        fx = f.diff(x)\n",
    "        \n",
    "        # Evaluate function and derivative at the point\n",
    "        x0 = point[0]\n",
    "        f0 = f.subs(x=x0)\n",
    "        fx0 = fx.subs(x=x0)\n",
    "        \n",
    "        # Linear approximation: L(x) = f(x0) + f'(x0)*(x - x0)\n",
    "        linear_approx = f0 + fx0 * (x - x0)\n",
    "    \n",
    "    elif n == 2:\n",
    "        # Case for f(x, y): two-variable function\n",
    "        x, y = variables\n",
    "        fx = f.diff(x)\n",
    "        fy = f.diff(y)\n",
    "        \n",
    "        # Evaluate function and partial derivatives at the point\n",
    "        x0, y0 = point\n",
    "        f0 = f.subs(x=x0, y=y0)\n",
    "        fx0 = fx.subs(x=x0, y=y0)\n",
    "        fy0 = fy.subs(x=x0, y=y0)\n",
    "        \n",
    "        # Linear approximation: L(x, y) = f(x0, y0) + fx0*(x - x0) + fy0*(y - y0)\n",
    "        linear_approx = f0 + fx0 * (x - x0) + fy0 * (y - y0)\n",
    "    \n",
    "    elif n == 3:\n",
    "        # Case for f(x, y, z): three-variable function\n",
    "        x, y, z = variables\n",
    "        fx = f.diff(x)\n",
    "        fy = f.diff(y)\n",
    "        fz = f.diff(z)\n",
    "        \n",
    "        # Evaluate function and partial derivatives at the point\n",
    "        x0, y0, z0 = point\n",
    "        f0 = f.subs(x=x0, y=y0, z=z0)\n",
    "        fx0 = fx.subs(x=x0, y=y0, z=z0)\n",
    "        fy0 = fy.subs(x=x0, y=y0, z=z0)\n",
    "        fz0 = fz.subs(x=x0, y=y0, z=z0)\n",
    "        \n",
    "        # Linear approximation: L(x, y, z) = f(x0, y0, z0) + fx0*(x - x0) + fy0*(y - y0) + fz0*(z - z0)\n",
    "        linear_approx = f0 + fx0 * (x - x0) + fy0 * (y - y0) + fz0 * (z - z0)\n",
    "    \n",
    "    else:\n",
    "        raise ValueError(\"The function must have 1, 2, or 3 variables.\")\n",
    "    \n",
    "    return linear_approx\n",
    "\n",
    "# Example usage:\n",
    "\n",
    "# Case 1: f(x) = x^2\n",
    "x = var('x')\n",
    "f_x = x^2\n",
    "point_x = (1,)\n",
    "linear_approx_x = linear_approximation(f_x, point_x)\n",
    "print(\"Linear approximation for f(x) at x = 1:\", linear_approx_x)\n",
    "\n",
    "# Case 2: f(x, y) = x^2 + y^2\n",
    "x, y = var('x y')\n",
    "f_xy = x^2 + y^2\n",
    "point_xy = (1, 1)\n",
    "linear_approx_xy = linear_approximation(f_xy, point_xy)\n",
    "print(\"Linear approximation for f(x, y) at (1, 1):\", linear_approx_xy)\n",
    "\n",
    "# Case 3: f(x, y, z) = x^2 + y^2 + z^2\n",
    "x, y, z = var('x y z')\n",
    "f_xyz = x^2 + y^2 + z^2\n",
    "point_xyz = (1, 1, 1)\n",
    "linear_approx_xyz = linear_approximation(f_xyz, point_xyz)\n",
    "print(\"Linear approximation for f(x, y, z) at (1, 1, 1):\", linear_approx_xyz)"
   ]
  },
  {
   "cell_type": "code",
   "execution_count": 16,
   "metadata": {},
   "outputs": [
    {
     "data": {
      "text/plain": [
       "1/4*pi + 4.00000000000000"
      ]
     },
     "execution_count": 16,
     "metadata": {},
     "output_type": "execute_result"
    }
   ],
   "source": [
    "tangent_plane(sqrt(67 - 3*x^2 - y^2),[-3,2])(-2.9,1.9)\n",
    "tangent_plane(arctan(x*y^2 + 65),[-1,8])(-0.9,7.9)\n",
    "\n"
   ]
  },
  {
   "cell_type": "code",
   "execution_count": 17,
   "metadata": {},
   "outputs": [
    {
     "name": "stdout",
     "output_type": "stream",
     "text": [
      "Error function E(x, y): x^2 + y^2 - 2*x - 2*y + 2\n"
     ]
    }
   ],
   "source": [
    "def error_function(f, point):\n",
    "    # Define the variables\n",
    "    x, y = var('x y')\n",
    "    \n",
    "    # Extract the point (x0, y0)\n",
    "    x0, y0 = point\n",
    "    \n",
    "    # Compute f(x0, y0)\n",
    "    f0 = f.subs(x=x0, y=y0)\n",
    "    \n",
    "    # Compute partial derivatives fx and fy\n",
    "    fx = f.diff(x)\n",
    "    fy = f.diff(y)\n",
    "    \n",
    "    # Evaluate partial derivatives at (x0, y0)\n",
    "    fx0 = fx.subs(x=x0, y=y0)\n",
    "    fy0 = fy.subs(x=x0, y=y0)\n",
    "    \n",
    "    # Compute the linear approximation\n",
    "    linear_approx = f0 + fx0 * (x - x0) + fy0 * (y - y0)\n",
    "    \n",
    "    # Compute the error function E(x, y)\n",
    "    E = f - linear_approx\n",
    "    \n",
    "    return E\n",
    "\n",
    "# Example usage:\n",
    "\n",
    "# Define the function f(x, y)\n",
    "x, y = var('x y')\n",
    "f = x^2 + y^2\n",
    "\n",
    "# Define the point (x0, y0)\n",
    "point = (1, 1)\n",
    "\n",
    "# Compute the error function E(x, y)\n",
    "E = error_function(f, point)\n",
    "print(\"Error function E(x, y):\", E)"
   ]
  },
  {
   "cell_type": "code",
   "execution_count": 20,
   "metadata": {},
   "outputs": [
    {
     "data": {
      "text/plain": [
       "-53/12*x + 25/4*y + 3/4*(x^3 + y^3)/(x*y)"
      ]
     },
     "execution_count": 20,
     "metadata": {},
     "output_type": "execute_result"
    }
   ],
   "source": [
    "error_function(-8*x^2 - 2*y,[8,1])\n",
    "error_function(4*x*y,[1,.25])\n",
    "error_function((x^3 + y^3)/((4/3)*x*y),[3,1])"
   ]
  },
  {
   "cell_type": "code",
   "execution_count": null,
   "metadata": {},
   "outputs": [
    {
     "name": "stdout",
     "output_type": "stream",
     "text": [
      "Closest point in 2D: (1.672981631311856, 2.7988675387068787)\n",
      "Closest point in 3D: (0.7914255084258859, 1.5828509293237318, 3.1317713998481733)\n"
     ]
    },
    {
     "name": "stderr",
     "output_type": "stream",
     "text": [
      "<ipython-input-29-320eb498c2bd>:51: DeprecationWarning: Substitution using function-call syntax and unnamed arguments is deprecated and will be removed from a future release of Sage; you can use named arguments instead, like EXPR(x=..., y=...)\n",
      "See http://trac.sagemath.org/5930 for details.\n",
      "  closest_2d = closest_point_on_function(f_2d, point_2d)\n",
      "<ipython-input-29-320eb498c2bd>:59: DeprecationWarning: Substitution using function-call syntax and unnamed arguments is deprecated and will be removed from a future release of Sage; you can use named arguments instead, like EXPR(x=..., y=...)\n",
      "See http://trac.sagemath.org/5930 for details.\n",
      "  closest_3d = closest_point_on_function(f_3d, point_3d)\n"
     ]
    }
   ],
   "source": [
    "\n",
    "\n",
    "def closest_point_on_function(f, point):\n",
    "     from scipy.optimize import minimize\n",
    "    \"\"\"\n",
    "    Find the point on the function f that is closest to the given point in space.\n",
    "    \n",
    "    Parameters:\n",
    "    - f: The function (in 2D: f(x), in 3D: f(x, y)).\n",
    "    - point: The point in space (in 2D: (x0, y0), in 3D: (x0, y0, z0)).\n",
    "    - initial_guess: Initial guess for the optimization (in 2D: x_guess, in 3D: (x_guess, y_guess)).\n",
    "    \n",
    "    Returns:\n",
    "    - The point on the function f that is closest to the given point.\n",
    "    \"\"\"\n",
    "    if len(point) == 2:\n",
    "        # 2D case: f is a function of one variable\n",
    "        initial_guess = (0.0)\n",
    "        x0, y0 = point\n",
    "        def distance_squared(x):\n",
    "            return (x[0] - x0)**2 + (f(x[0]) - y0)**2\n",
    "        \n",
    "        # Minimize the distance squared\n",
    "        result = minimize(distance_squared, [initial_guess])\n",
    "        x_min = result.x[0]\n",
    "        return (x_min, f(x_min))\n",
    "    \n",
    "    elif len(point) == 3:\n",
    "        initial_guess = (0.0,0.0)\n",
    "        # 3D case: f is a function of two variables\n",
    "        x0, y0, z0 = point\n",
    "        def distance_squared(vars):\n",
    "            x, y = vars\n",
    "            return (x - x0)**2 + (y - y0)**2 + (f(x, y) - z0)**2\n",
    "        \n",
    "        # Minimize the distance squared\n",
    "        result = minimize(distance_squared, initial_guess)\n",
    "        x_min, y_min = result.x\n",
    "        return (x_min, y_min, f(x_min, y_min))\n",
    "    \n",
    "    else:\n",
    "        raise ValueError(\"The point must be in 2D or 3D space.\")\n",
    "\n",
    "# Example usage:\n",
    "\n",
    "# 2D example\n",
    "var('x')\n",
    "f_2d = x**2\n",
    "point_2d = (1, 3)\n",
    "initial_guess_2d = 0.0  # Use a float for initial guess\n",
    "closest_2d = closest_point_on_function(f_2d, point_2d)\n",
    "print(\"Closest point in 2D:\", closest_2d)\n",
    "\n",
    "# 3D example\n",
    "var('x y')\n",
    "f_3d = x**2 + y**2\n",
    "point_3d = (1, 2, 3)\n",
    "initial_guess_3d = (0.0, 0.0)  # Use a tuple of floats for initial guess\n",
    "closest_3d = closest_point_on_function(f_3d, point_3d)\n",
    "print(\"Closest point in 3D:\", closest_3d)"
   ]
  },
  {
   "cell_type": "code",
   "execution_count": 32,
   "metadata": {},
   "outputs": [
    {
     "name": "stderr",
     "output_type": "stream",
     "text": [
      "<ipython-input-32-b242354d36e1>:2: DeprecationWarning: Substitution using function-call syntax and unnamed arguments is deprecated and will be removed from a future release of Sage; you can use named arguments instead, like EXPR(x=..., y=...)\n",
      "See http://trac.sagemath.org/5930 for details.\n",
      "  closest_point_on_function(f(x,y),[Integer(5),-Integer(5),Integer(0)])\n"
     ]
    },
    {
     "data": {
      "text/plain": [
       "(2.499999669855614, -2.500000407718857, 3.5355339607862097)"
      ]
     },
     "execution_count": 32,
     "metadata": {},
     "output_type": "execute_result"
    }
   ],
   "source": [
    "f(x,y) = abs(sqrt(x^2 + y^2))\n",
    "closest_point_on_function(f(x,y),[5,-5,0])"
   ]
  },
  {
   "cell_type": "code",
   "execution_count": 27,
   "metadata": {},
   "outputs": [
    {
     "data": {
      "text/plain": [
       "5*sqrt(1/2)"
      ]
     },
     "execution_count": 27,
     "metadata": {},
     "output_type": "execute_result"
    }
   ],
   "source": [
    "f(2 +1/2,-2 - 1/2)"
   ]
  }
 ],
 "metadata": {
  "kernelspec": {
   "display_name": "SageMath 9.0",
   "language": "sage",
   "name": "sagemath"
  },
  "language_info": {
   "codemirror_mode": {
    "name": "ipython",
    "version": 3
   },
   "file_extension": ".py",
   "mimetype": "text/x-python",
   "name": "python",
   "nbconvert_exporter": "python",
   "pygments_lexer": "ipython3",
   "version": "3.8.10"
  }
 },
 "nbformat": 4,
 "nbformat_minor": 2
}
