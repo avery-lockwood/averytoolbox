{
 "cells": [
  {
   "cell_type": "code",
   "execution_count": null,
   "id": "d6cb67f8",
   "metadata": {},
   "outputs": [
    {
     "name": "stdout",
     "output_type": "stream",
     "text": [
      "Defaulting to user installation because normal site-packages is not writeable\n",
      "Requirement already satisfied: numpy in /home/avery/.local/lib/python3.13/site-packages (2.2.5)\n",
      "Note: you may need to restart the kernel to use updated packages.\n",
      "Eigenvalues of the matrix A:\n",
      "[-8.  3.]\n"
     ]
    }
   ],
   "source": [
    "# Import NumPy\n",
    "%pip install numpy\n",
    "import numpy as np\n",
    "\n",
    "# Define the matrix\n",
    "A = np.array([[-1, 0, 4],\n",
    "              [2, 1, -2],\n",
    "              [9, 0, -6]])\n",
    "\n",
    "# Compute the eigenvalues\n",
    "eigenvalues, _ = np.linalg.eig(A)\n",
    "\n",
    "# Print the eigenvalues\n",
    "print(\"Eigenvalues of the matrix A:\")\n",
    "print(eigenvalues)"
   ]
  }
 ],
 "metadata": {
  "kernelspec": {
   "display_name": "Python 3",
   "language": "python",
   "name": "python3"
  },
  "language_info": {
   "codemirror_mode": {
    "name": "ipython",
    "version": 3
   },
   "file_extension": ".py",
   "mimetype": "text/x-python",
   "name": "python",
   "nbconvert_exporter": "python",
   "pygments_lexer": "ipython3",
   "version": "3.13.3"
  }
 },
 "nbformat": 4,
 "nbformat_minor": 5
}
